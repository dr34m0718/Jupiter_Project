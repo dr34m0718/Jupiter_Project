{
 "cells": [
  {
   "cell_type": "markdown",
   "id": "051f1ba6",
   "metadata": {},
   "source": [
    "# 1 Guide to Module Usage\n",
    "## Importing and Initiation\n",
    "The jupiter.py module contains a class Moons with methods which will help us to store and analyse data on Jupiter moons. <br>\n",
    "We will first import the Moons class from the jupiter module stored in our jupiter_package."
   ]
  },
  {
   "cell_type": "code",
   "execution_count": 1,
   "id": "b6108215",
   "metadata": {},
   "outputs": [],
   "source": [
    "from jupiter_package.jupiter import Moons"
   ]
  },
  {
   "cell_type": "markdown",
   "id": "8b918d7e",
   "metadata": {},
   "source": [
    "We will need to call the Moons class which is imported from the module and as an example we call it `moon_df` here."
   ]
  },
  {
   "cell_type": "code",
   "execution_count": 2,
   "id": "21ad828d",
   "metadata": {},
   "outputs": [],
   "source": [
    "moon_df = Moons()"
   ]
  },
  {
   "cell_type": "markdown",
   "id": "78984303",
   "metadata": {},
   "source": [
    "The data from jupiter.db file is stored in our Moons class as the data. <br>\n",
    "We can access the data iby calling `moon_df.data`.<br>"
   ]
  },
  {
   "cell_type": "code",
   "execution_count": 3,
   "id": "b759bf05",
   "metadata": {},
   "outputs": [
    {
     "data": {
      "text/html": [
       "<div>\n",
       "<style scoped>\n",
       "    .dataframe tbody tr th:only-of-type {\n",
       "        vertical-align: middle;\n",
       "    }\n",
       "\n",
       "    .dataframe tbody tr th {\n",
       "        vertical-align: top;\n",
       "    }\n",
       "\n",
       "    .dataframe thead th {\n",
       "        text-align: right;\n",
       "    }\n",
       "</style>\n",
       "<table border=\"1\" class=\"dataframe\">\n",
       "  <thead>\n",
       "    <tr style=\"text-align: right;\">\n",
       "      <th></th>\n",
       "      <th>moon</th>\n",
       "      <th>period_days</th>\n",
       "      <th>distance_km</th>\n",
       "      <th>radius_km</th>\n",
       "      <th>mag</th>\n",
       "      <th>mass_kg</th>\n",
       "      <th>group</th>\n",
       "      <th>ecc</th>\n",
       "      <th>inclination_deg</th>\n",
       "    </tr>\n",
       "  </thead>\n",
       "  <tbody>\n",
       "    <tr>\n",
       "      <th>0</th>\n",
       "      <td>Adrastea</td>\n",
       "      <td>0.298</td>\n",
       "      <td>129000.0</td>\n",
       "      <td>8.2</td>\n",
       "      <td>NaN</td>\n",
       "      <td>NaN</td>\n",
       "      <td>Inner</td>\n",
       "      <td>0.001500</td>\n",
       "      <td>0.03</td>\n",
       "    </tr>\n",
       "    <tr>\n",
       "      <th>1</th>\n",
       "      <td>Aitne</td>\n",
       "      <td>730.000</td>\n",
       "      <td>23231000.0</td>\n",
       "      <td>1.5</td>\n",
       "      <td>22.7</td>\n",
       "      <td>NaN</td>\n",
       "      <td>Carme</td>\n",
       "      <td>0.264000</td>\n",
       "      <td>165.00</td>\n",
       "    </tr>\n",
       "    <tr>\n",
       "      <th>2</th>\n",
       "      <td>Amalthea</td>\n",
       "      <td>0.498</td>\n",
       "      <td>181400.0</td>\n",
       "      <td>83.5</td>\n",
       "      <td>14.1</td>\n",
       "      <td>2.080000e+18</td>\n",
       "      <td>Inner</td>\n",
       "      <td>0.003190</td>\n",
       "      <td>0.37</td>\n",
       "    </tr>\n",
       "    <tr>\n",
       "      <th>3</th>\n",
       "      <td>Ananke</td>\n",
       "      <td>630.000</td>\n",
       "      <td>21300000.0</td>\n",
       "      <td>14.0</td>\n",
       "      <td>18.9</td>\n",
       "      <td>NaN</td>\n",
       "      <td>Ananke</td>\n",
       "      <td>0.174725</td>\n",
       "      <td>148.60</td>\n",
       "    </tr>\n",
       "    <tr>\n",
       "      <th>4</th>\n",
       "      <td>Aoede</td>\n",
       "      <td>761.000</td>\n",
       "      <td>24000000.0</td>\n",
       "      <td>2.0</td>\n",
       "      <td>22.5</td>\n",
       "      <td>NaN</td>\n",
       "      <td>Pasiphae</td>\n",
       "      <td>0.432000</td>\n",
       "      <td>158.00</td>\n",
       "    </tr>\n",
       "  </tbody>\n",
       "</table>\n",
       "</div>"
      ],
      "text/plain": [
       "       moon  period_days  distance_km  radius_km   mag       mass_kg  \\\n",
       "0  Adrastea        0.298     129000.0        8.2   NaN           NaN   \n",
       "1     Aitne      730.000   23231000.0        1.5  22.7           NaN   \n",
       "2  Amalthea        0.498     181400.0       83.5  14.1  2.080000e+18   \n",
       "3    Ananke      630.000   21300000.0       14.0  18.9           NaN   \n",
       "4     Aoede      761.000   24000000.0        2.0  22.5           NaN   \n",
       "\n",
       "      group       ecc  inclination_deg  \n",
       "0     Inner  0.001500             0.03  \n",
       "1     Carme  0.264000           165.00  \n",
       "2     Inner  0.003190             0.37  \n",
       "3    Ananke  0.174725           148.60  \n",
       "4  Pasiphae  0.432000           158.00  "
      ]
     },
     "execution_count": 3,
     "metadata": {},
     "output_type": "execute_result"
    }
   ],
   "source": [
    "#accessing first few data from moon_df as an example\n",
    "moon_df.print_data(head = True)"
   ]
  },
  {
   "cell_type": "markdown",
   "id": "02f28d1d",
   "metadata": {},
   "source": [
    "## Extracting and Modification of Data\n",
    "We can create a copy of our Moons class by using function `moon_df.copy()`."
   ]
  },
  {
   "cell_type": "code",
   "execution_count": 4,
   "id": "01d06c26",
   "metadata": {},
   "outputs": [
    {
     "data": {
      "text/html": [
       "<div>\n",
       "<style scoped>\n",
       "    .dataframe tbody tr th:only-of-type {\n",
       "        vertical-align: middle;\n",
       "    }\n",
       "\n",
       "    .dataframe tbody tr th {\n",
       "        vertical-align: top;\n",
       "    }\n",
       "\n",
       "    .dataframe thead th {\n",
       "        text-align: right;\n",
       "    }\n",
       "</style>\n",
       "<table border=\"1\" class=\"dataframe\">\n",
       "  <thead>\n",
       "    <tr style=\"text-align: right;\">\n",
       "      <th></th>\n",
       "      <th>moon</th>\n",
       "      <th>period_days</th>\n",
       "      <th>distance_km</th>\n",
       "      <th>radius_km</th>\n",
       "      <th>mag</th>\n",
       "      <th>mass_kg</th>\n",
       "      <th>group</th>\n",
       "      <th>ecc</th>\n",
       "      <th>inclination_deg</th>\n",
       "    </tr>\n",
       "  </thead>\n",
       "  <tbody>\n",
       "    <tr>\n",
       "      <th>0</th>\n",
       "      <td>Adrastea</td>\n",
       "      <td>0.298</td>\n",
       "      <td>129000.0</td>\n",
       "      <td>8.2</td>\n",
       "      <td>NaN</td>\n",
       "      <td>NaN</td>\n",
       "      <td>Inner</td>\n",
       "      <td>0.001500</td>\n",
       "      <td>0.03</td>\n",
       "    </tr>\n",
       "    <tr>\n",
       "      <th>1</th>\n",
       "      <td>Aitne</td>\n",
       "      <td>730.000</td>\n",
       "      <td>23231000.0</td>\n",
       "      <td>1.5</td>\n",
       "      <td>22.7</td>\n",
       "      <td>NaN</td>\n",
       "      <td>Carme</td>\n",
       "      <td>0.264000</td>\n",
       "      <td>165.00</td>\n",
       "    </tr>\n",
       "    <tr>\n",
       "      <th>2</th>\n",
       "      <td>Amalthea</td>\n",
       "      <td>0.498</td>\n",
       "      <td>181400.0</td>\n",
       "      <td>83.5</td>\n",
       "      <td>14.1</td>\n",
       "      <td>2.080000e+18</td>\n",
       "      <td>Inner</td>\n",
       "      <td>0.003190</td>\n",
       "      <td>0.37</td>\n",
       "    </tr>\n",
       "    <tr>\n",
       "      <th>3</th>\n",
       "      <td>Ananke</td>\n",
       "      <td>630.000</td>\n",
       "      <td>21300000.0</td>\n",
       "      <td>14.0</td>\n",
       "      <td>18.9</td>\n",
       "      <td>NaN</td>\n",
       "      <td>Ananke</td>\n",
       "      <td>0.174725</td>\n",
       "      <td>148.60</td>\n",
       "    </tr>\n",
       "    <tr>\n",
       "      <th>4</th>\n",
       "      <td>Aoede</td>\n",
       "      <td>761.000</td>\n",
       "      <td>24000000.0</td>\n",
       "      <td>2.0</td>\n",
       "      <td>22.5</td>\n",
       "      <td>NaN</td>\n",
       "      <td>Pasiphae</td>\n",
       "      <td>0.432000</td>\n",
       "      <td>158.00</td>\n",
       "    </tr>\n",
       "  </tbody>\n",
       "</table>\n",
       "</div>"
      ],
      "text/plain": [
       "       moon  period_days  distance_km  radius_km   mag       mass_kg  \\\n",
       "0  Adrastea        0.298     129000.0        8.2   NaN           NaN   \n",
       "1     Aitne      730.000   23231000.0        1.5  22.7           NaN   \n",
       "2  Amalthea        0.498     181400.0       83.5  14.1  2.080000e+18   \n",
       "3    Ananke      630.000   21300000.0       14.0  18.9           NaN   \n",
       "4     Aoede      761.000   24000000.0        2.0  22.5           NaN   \n",
       "\n",
       "      group       ecc  inclination_deg  \n",
       "0     Inner  0.001500             0.03  \n",
       "1     Carme  0.264000           165.00  \n",
       "2     Inner  0.003190             0.37  \n",
       "3    Ananke  0.174725           148.60  \n",
       "4  Pasiphae  0.432000           158.00  "
      ]
     },
     "execution_count": 4,
     "metadata": {},
     "output_type": "execute_result"
    }
   ],
   "source": [
    "moon_copy = moon_df.copy()\n",
    "moon_copy.print_data(head = True)"
   ]
  },
  {
   "cell_type": "markdown",
   "id": "07409610",
   "metadata": {},
   "source": [
    "The following functions allows to check and modify the columns of the data."
   ]
  },
  {
   "cell_type": "code",
   "execution_count": 5,
   "id": "8bd71165",
   "metadata": {},
   "outputs": [
    {
     "data": {
      "text/plain": [
       "Index(['moon', 'period_days', 'distance_km', 'radius_km', 'mag', 'mass_kg',\n",
       "       'group', 'ecc', 'inclination_deg'],\n",
       "      dtype='object')"
      ]
     },
     "execution_count": 5,
     "metadata": {},
     "output_type": "execute_result"
    }
   ],
   "source": [
    "#checking the columns available in the dataframe\n",
    "moon_df.columns()"
   ]
  },
  {
   "cell_type": "code",
   "execution_count": 6,
   "id": "072c8436",
   "metadata": {},
   "outputs": [
    {
     "data": {
      "text/html": [
       "<div>\n",
       "<style scoped>\n",
       "    .dataframe tbody tr th:only-of-type {\n",
       "        vertical-align: middle;\n",
       "    }\n",
       "\n",
       "    .dataframe tbody tr th {\n",
       "        vertical-align: top;\n",
       "    }\n",
       "\n",
       "    .dataframe thead th {\n",
       "        text-align: right;\n",
       "    }\n",
       "</style>\n",
       "<table border=\"1\" class=\"dataframe\">\n",
       "  <thead>\n",
       "    <tr style=\"text-align: right;\">\n",
       "      <th></th>\n",
       "      <th>moon</th>\n",
       "      <th>period_days</th>\n",
       "      <th>distance_km</th>\n",
       "      <th>radius_km</th>\n",
       "      <th>mag</th>\n",
       "      <th>group</th>\n",
       "      <th>ecc</th>\n",
       "      <th>inclination_deg</th>\n",
       "    </tr>\n",
       "  </thead>\n",
       "  <tbody>\n",
       "    <tr>\n",
       "      <th>0</th>\n",
       "      <td>Adrastea</td>\n",
       "      <td>0.298</td>\n",
       "      <td>129000.0</td>\n",
       "      <td>8.2</td>\n",
       "      <td>NaN</td>\n",
       "      <td>Inner</td>\n",
       "      <td>0.001500</td>\n",
       "      <td>0.03</td>\n",
       "    </tr>\n",
       "    <tr>\n",
       "      <th>1</th>\n",
       "      <td>Aitne</td>\n",
       "      <td>730.000</td>\n",
       "      <td>23231000.0</td>\n",
       "      <td>1.5</td>\n",
       "      <td>22.7</td>\n",
       "      <td>Carme</td>\n",
       "      <td>0.264000</td>\n",
       "      <td>165.00</td>\n",
       "    </tr>\n",
       "    <tr>\n",
       "      <th>2</th>\n",
       "      <td>Amalthea</td>\n",
       "      <td>0.498</td>\n",
       "      <td>181400.0</td>\n",
       "      <td>83.5</td>\n",
       "      <td>14.1</td>\n",
       "      <td>Inner</td>\n",
       "      <td>0.003190</td>\n",
       "      <td>0.37</td>\n",
       "    </tr>\n",
       "    <tr>\n",
       "      <th>3</th>\n",
       "      <td>Ananke</td>\n",
       "      <td>630.000</td>\n",
       "      <td>21300000.0</td>\n",
       "      <td>14.0</td>\n",
       "      <td>18.9</td>\n",
       "      <td>Ananke</td>\n",
       "      <td>0.174725</td>\n",
       "      <td>148.60</td>\n",
       "    </tr>\n",
       "    <tr>\n",
       "      <th>4</th>\n",
       "      <td>Aoede</td>\n",
       "      <td>761.000</td>\n",
       "      <td>24000000.0</td>\n",
       "      <td>2.0</td>\n",
       "      <td>22.5</td>\n",
       "      <td>Pasiphae</td>\n",
       "      <td>0.432000</td>\n",
       "      <td>158.00</td>\n",
       "    </tr>\n",
       "  </tbody>\n",
       "</table>\n",
       "</div>"
      ],
      "text/plain": [
       "       moon  period_days  distance_km  radius_km   mag     group       ecc  \\\n",
       "0  Adrastea        0.298     129000.0        8.2   NaN     Inner  0.001500   \n",
       "1     Aitne      730.000   23231000.0        1.5  22.7     Carme  0.264000   \n",
       "2  Amalthea        0.498     181400.0       83.5  14.1     Inner  0.003190   \n",
       "3    Ananke      630.000   21300000.0       14.0  18.9    Ananke  0.174725   \n",
       "4     Aoede      761.000   24000000.0        2.0  22.5  Pasiphae  0.432000   \n",
       "\n",
       "   inclination_deg  \n",
       "0             0.03  \n",
       "1           165.00  \n",
       "2             0.37  \n",
       "3           148.60  \n",
       "4           158.00  "
      ]
     },
     "execution_count": 6,
     "metadata": {},
     "output_type": "execute_result"
    }
   ],
   "source": [
    "#dropping columns of our choice\n",
    "moon_copy.drop_columns('mass_kg') #use the copied data for example\n",
    "moon_copy.print_data(head = True)"
   ]
  },
  {
   "cell_type": "code",
   "execution_count": 7,
   "id": "bb5ed34c",
   "metadata": {},
   "outputs": [
    {
     "data": {
      "text/html": [
       "<div>\n",
       "<style scoped>\n",
       "    .dataframe tbody tr th:only-of-type {\n",
       "        vertical-align: middle;\n",
       "    }\n",
       "\n",
       "    .dataframe tbody tr th {\n",
       "        vertical-align: top;\n",
       "    }\n",
       "\n",
       "    .dataframe thead th {\n",
       "        text-align: right;\n",
       "    }\n",
       "</style>\n",
       "<table border=\"1\" class=\"dataframe\">\n",
       "  <thead>\n",
       "    <tr style=\"text-align: right;\">\n",
       "      <th></th>\n",
       "      <th>moon</th>\n",
       "      <th>period_days</th>\n",
       "      <th>distance_km</th>\n",
       "      <th>radius_km</th>\n",
       "      <th>mag</th>\n",
       "      <th>group</th>\n",
       "      <th>ecc</th>\n",
       "      <th>inclination_deg</th>\n",
       "    </tr>\n",
       "  </thead>\n",
       "  <tbody>\n",
       "    <tr>\n",
       "      <th>4</th>\n",
       "      <td>Aoede</td>\n",
       "      <td>761.000000</td>\n",
       "      <td>24000000.0</td>\n",
       "      <td>2.0</td>\n",
       "      <td>22.50</td>\n",
       "      <td>Pasiphae</td>\n",
       "      <td>0.43200</td>\n",
       "      <td>158.00</td>\n",
       "    </tr>\n",
       "    <tr>\n",
       "      <th>5</th>\n",
       "      <td>Arche</td>\n",
       "      <td>724.000000</td>\n",
       "      <td>22931000.0</td>\n",
       "      <td>1.5</td>\n",
       "      <td>22.80</td>\n",
       "      <td>Carme</td>\n",
       "      <td>0.25900</td>\n",
       "      <td>165.00</td>\n",
       "    </tr>\n",
       "    <tr>\n",
       "      <th>6</th>\n",
       "      <td>Autonoe</td>\n",
       "      <td>719.000000</td>\n",
       "      <td>23039000.0</td>\n",
       "      <td>2.0</td>\n",
       "      <td>22.00</td>\n",
       "      <td>Pasiphae</td>\n",
       "      <td>0.33400</td>\n",
       "      <td>153.00</td>\n",
       "    </tr>\n",
       "    <tr>\n",
       "      <th>7</th>\n",
       "      <td>Callirrhoe</td>\n",
       "      <td>787.000000</td>\n",
       "      <td>24583090.0</td>\n",
       "      <td>4.8</td>\n",
       "      <td>20.80</td>\n",
       "      <td>Pasiphae</td>\n",
       "      <td>0.30957</td>\n",
       "      <td>148.00</td>\n",
       "    </tr>\n",
       "    <tr>\n",
       "      <th>8</th>\n",
       "      <td>Callisto</td>\n",
       "      <td>16.689018</td>\n",
       "      <td>1882700.0</td>\n",
       "      <td>2410.3</td>\n",
       "      <td>5.65</td>\n",
       "      <td>Galilean</td>\n",
       "      <td>0.00740</td>\n",
       "      <td>2.02</td>\n",
       "    </tr>\n",
       "  </tbody>\n",
       "</table>\n",
       "</div>"
      ],
      "text/plain": [
       "         moon  period_days  distance_km  radius_km    mag     group      ecc  \\\n",
       "4       Aoede   761.000000   24000000.0        2.0  22.50  Pasiphae  0.43200   \n",
       "5       Arche   724.000000   22931000.0        1.5  22.80     Carme  0.25900   \n",
       "6     Autonoe   719.000000   23039000.0        2.0  22.00  Pasiphae  0.33400   \n",
       "7  Callirrhoe   787.000000   24583090.0        4.8  20.80  Pasiphae  0.30957   \n",
       "8    Callisto    16.689018    1882700.0     2410.3   5.65  Galilean  0.00740   \n",
       "\n",
       "   inclination_deg  \n",
       "4           158.00  \n",
       "5           165.00  \n",
       "6           153.00  \n",
       "7           148.00  \n",
       "8             2.02  "
      ]
     },
     "execution_count": 7,
     "metadata": {},
     "output_type": "execute_result"
    }
   ],
   "source": [
    "#dropping rows of our choice\n",
    "moon_copy.drop_rows([0,1,2,3]) #use the copied data for example\n",
    "moon_copy.print_data(head = True)"
   ]
  },
  {
   "cell_type": "markdown",
   "id": "2e8bc727",
   "metadata": {},
   "source": [
    "The function `moon_df.check_na()` will return show us how many missing values are observed in each column. <br>\n",
    "While `moon_df.drop_na()` will drop all rows which contains missing values."
   ]
  },
  {
   "cell_type": "code",
   "execution_count": 8,
   "id": "40291a06",
   "metadata": {},
   "outputs": [
    {
     "data": {
      "text/plain": [
       "moon                0\n",
       "period_days         0\n",
       "distance_km         0\n",
       "radius_km           0\n",
       "mag                 3\n",
       "mass_kg            50\n",
       "group               0\n",
       "ecc                 0\n",
       "inclination_deg     0\n",
       "dtype: int64"
      ]
     },
     "execution_count": 8,
     "metadata": {},
     "output_type": "execute_result"
    }
   ],
   "source": [
    "moon_df.check_na()"
   ]
  },
  {
   "cell_type": "code",
   "execution_count": 9,
   "id": "fe5e0a8f",
   "metadata": {},
   "outputs": [
    {
     "data": {
      "text/plain": [
       "moon               0\n",
       "period_days        0\n",
       "distance_km        0\n",
       "radius_km          0\n",
       "mag                0\n",
       "mass_kg            0\n",
       "group              0\n",
       "ecc                0\n",
       "inclination_deg    0\n",
       "dtype: int64"
      ]
     },
     "execution_count": 9,
     "metadata": {},
     "output_type": "execute_result"
    }
   ],
   "source": [
    "#using a copy to show drop_na()\n",
    "moon_copy2 = moon_df.copy()\n",
    "moon_copy2.drop_na()\n",
    "moon_copy2.check_na()"
   ]
  },
  {
   "cell_type": "markdown",
   "id": "8d792703",
   "metadata": {},
   "source": [
    "Observe that the number of missing values in our moon_copy2 is now 0."
   ]
  },
  {
   "cell_type": "markdown",
   "id": "7fb3a941",
   "metadata": {},
   "source": [
    "`moon_df.add_moon(new_moon_data)` can allow us to add any new moon into our dataframe.<br>\n",
    "The function will automatically rearrange all of the moons in ascending order according to name. <br>\n",
    "Note: `new_moon_data` should be a dictionary of the new moons, containing data for all the columns that are present in our original dataframe.<br><br>\n",
    "To rearrange the data in ascending order according to any columns, we can use `moon_df.rearrange_data_by_col(column)`."
   ]
  },
  {
   "cell_type": "code",
   "execution_count": 10,
   "id": "0f3762cf",
   "metadata": {},
   "outputs": [
    {
     "data": {
      "text/html": [
       "<div>\n",
       "<style scoped>\n",
       "    .dataframe tbody tr th:only-of-type {\n",
       "        vertical-align: middle;\n",
       "    }\n",
       "\n",
       "    .dataframe tbody tr th {\n",
       "        vertical-align: top;\n",
       "    }\n",
       "\n",
       "    .dataframe thead th {\n",
       "        text-align: right;\n",
       "    }\n",
       "</style>\n",
       "<table border=\"1\" class=\"dataframe\">\n",
       "  <thead>\n",
       "    <tr style=\"text-align: right;\">\n",
       "      <th></th>\n",
       "      <th>moon</th>\n",
       "      <th>period_days</th>\n",
       "      <th>distance_km</th>\n",
       "      <th>radius_km</th>\n",
       "      <th>mag</th>\n",
       "      <th>mass_kg</th>\n",
       "      <th>group</th>\n",
       "      <th>ecc</th>\n",
       "      <th>inclination_deg</th>\n",
       "    </tr>\n",
       "  </thead>\n",
       "  <tbody>\n",
       "    <tr>\n",
       "      <th>0</th>\n",
       "      <td>Amalthea</td>\n",
       "      <td>0.498000</td>\n",
       "      <td>181400.0</td>\n",
       "      <td>83.5</td>\n",
       "      <td>14.10</td>\n",
       "      <td>2.080000e+18</td>\n",
       "      <td>Inner</td>\n",
       "      <td>0.00319</td>\n",
       "      <td>0.37</td>\n",
       "    </tr>\n",
       "    <tr>\n",
       "      <th>1</th>\n",
       "      <td>Io</td>\n",
       "      <td>1.750000</td>\n",
       "      <td>421700.0</td>\n",
       "      <td>1821.6</td>\n",
       "      <td>5.02</td>\n",
       "      <td>8.931938e+22</td>\n",
       "      <td>Galilean</td>\n",
       "      <td>0.00410</td>\n",
       "      <td>2.20</td>\n",
       "    </tr>\n",
       "    <tr>\n",
       "      <th>2</th>\n",
       "      <td>Europa</td>\n",
       "      <td>3.551181</td>\n",
       "      <td>670900.0</td>\n",
       "      <td>1560.8</td>\n",
       "      <td>5.29</td>\n",
       "      <td>4.799844e+22</td>\n",
       "      <td>Galilean</td>\n",
       "      <td>0.00900</td>\n",
       "      <td>1.79</td>\n",
       "    </tr>\n",
       "    <tr>\n",
       "      <th>3</th>\n",
       "      <td>Ganymede</td>\n",
       "      <td>7.150000</td>\n",
       "      <td>1070400.0</td>\n",
       "      <td>2634.1</td>\n",
       "      <td>4.61</td>\n",
       "      <td>1.481900e+23</td>\n",
       "      <td>Galilean</td>\n",
       "      <td>0.00130</td>\n",
       "      <td>2.20</td>\n",
       "    </tr>\n",
       "    <tr>\n",
       "      <th>4</th>\n",
       "      <td>Callisto</td>\n",
       "      <td>16.689018</td>\n",
       "      <td>1882700.0</td>\n",
       "      <td>2410.3</td>\n",
       "      <td>5.65</td>\n",
       "      <td>1.075938e+23</td>\n",
       "      <td>Galilean</td>\n",
       "      <td>0.00740</td>\n",
       "      <td>2.02</td>\n",
       "    </tr>\n",
       "  </tbody>\n",
       "</table>\n",
       "</div>"
      ],
      "text/plain": [
       "       moon  period_days  distance_km  radius_km    mag       mass_kg  \\\n",
       "0  Amalthea     0.498000     181400.0       83.5  14.10  2.080000e+18   \n",
       "1        Io     1.750000     421700.0     1821.6   5.02  8.931938e+22   \n",
       "2    Europa     3.551181     670900.0     1560.8   5.29  4.799844e+22   \n",
       "3  Ganymede     7.150000    1070400.0     2634.1   4.61  1.481900e+23   \n",
       "4  Callisto    16.689018    1882700.0     2410.3   5.65  1.075938e+23   \n",
       "\n",
       "      group      ecc  inclination_deg  \n",
       "0     Inner  0.00319             0.37  \n",
       "1  Galilean  0.00410             2.20  \n",
       "2  Galilean  0.00900             1.79  \n",
       "3  Galilean  0.00130             2.20  \n",
       "4  Galilean  0.00740             2.02  "
      ]
     },
     "execution_count": 10,
     "metadata": {},
     "output_type": "execute_result"
    }
   ],
   "source": [
    "moon_copy2.rearrange_data_by_col('distance_km')\n",
    "moon_copy2.print_data(head = True)"
   ]
  },
  {
   "cell_type": "markdown",
   "id": "b8a86d9d",
   "metadata": {},
   "source": [
    "## Selecting Single or Multiple Moons\n",
    "We can choose single moon according to its index or name as follows:"
   ]
  },
  {
   "cell_type": "code",
   "execution_count": 11,
   "id": "94a8942f",
   "metadata": {},
   "outputs": [
    {
     "data": {
      "text/html": [
       "<div>\n",
       "<style scoped>\n",
       "    .dataframe tbody tr th:only-of-type {\n",
       "        vertical-align: middle;\n",
       "    }\n",
       "\n",
       "    .dataframe tbody tr th {\n",
       "        vertical-align: top;\n",
       "    }\n",
       "\n",
       "    .dataframe thead th {\n",
       "        text-align: right;\n",
       "    }\n",
       "</style>\n",
       "<table border=\"1\" class=\"dataframe\">\n",
       "  <thead>\n",
       "    <tr style=\"text-align: right;\">\n",
       "      <th></th>\n",
       "      <th>moon</th>\n",
       "      <th>period_days</th>\n",
       "      <th>distance_km</th>\n",
       "      <th>radius_km</th>\n",
       "      <th>mag</th>\n",
       "      <th>mass_kg</th>\n",
       "      <th>group</th>\n",
       "      <th>ecc</th>\n",
       "      <th>inclination_deg</th>\n",
       "    </tr>\n",
       "  </thead>\n",
       "  <tbody>\n",
       "    <tr>\n",
       "      <th>22</th>\n",
       "      <td>Europa</td>\n",
       "      <td>3.551181</td>\n",
       "      <td>670900.0</td>\n",
       "      <td>1560.8</td>\n",
       "      <td>5.29</td>\n",
       "      <td>4.799844e+22</td>\n",
       "      <td>Galilean</td>\n",
       "      <td>0.009</td>\n",
       "      <td>1.79</td>\n",
       "    </tr>\n",
       "  </tbody>\n",
       "</table>\n",
       "</div>"
      ],
      "text/plain": [
       "      moon  period_days  distance_km  radius_km   mag       mass_kg     group  \\\n",
       "22  Europa     3.551181     670900.0     1560.8  5.29  4.799844e+22  Galilean   \n",
       "\n",
       "      ecc  inclination_deg  \n",
       "22  0.009             1.79  "
      ]
     },
     "execution_count": 11,
     "metadata": {},
     "output_type": "execute_result"
    }
   ],
   "source": [
    "moon_df.select_moon_by_name('Europa')"
   ]
  },
  {
   "cell_type": "code",
   "execution_count": 12,
   "id": "a7e0ce53",
   "metadata": {},
   "outputs": [
    {
     "data": {
      "text/html": [
       "<div>\n",
       "<style scoped>\n",
       "    .dataframe tbody tr th:only-of-type {\n",
       "        vertical-align: middle;\n",
       "    }\n",
       "\n",
       "    .dataframe tbody tr th {\n",
       "        vertical-align: top;\n",
       "    }\n",
       "\n",
       "    .dataframe thead th {\n",
       "        text-align: right;\n",
       "    }\n",
       "</style>\n",
       "<table border=\"1\" class=\"dataframe\">\n",
       "  <thead>\n",
       "    <tr style=\"text-align: right;\">\n",
       "      <th></th>\n",
       "      <th>moon</th>\n",
       "      <th>period_days</th>\n",
       "      <th>distance_km</th>\n",
       "      <th>radius_km</th>\n",
       "      <th>mag</th>\n",
       "      <th>mass_kg</th>\n",
       "      <th>group</th>\n",
       "      <th>ecc</th>\n",
       "      <th>inclination_deg</th>\n",
       "    </tr>\n",
       "  </thead>\n",
       "  <tbody>\n",
       "    <tr>\n",
       "      <th>22</th>\n",
       "      <td>Europa</td>\n",
       "      <td>3.551181</td>\n",
       "      <td>670900.0</td>\n",
       "      <td>1560.8</td>\n",
       "      <td>5.29</td>\n",
       "      <td>4.799844e+22</td>\n",
       "      <td>Galilean</td>\n",
       "      <td>0.009</td>\n",
       "      <td>1.79</td>\n",
       "    </tr>\n",
       "  </tbody>\n",
       "</table>\n",
       "</div>"
      ],
      "text/plain": [
       "      moon  period_days  distance_km  radius_km   mag       mass_kg     group  \\\n",
       "22  Europa     3.551181     670900.0     1560.8  5.29  4.799844e+22  Galilean   \n",
       "\n",
       "      ecc  inclination_deg  \n",
       "22  0.009             1.79  "
      ]
     },
     "execution_count": 12,
     "metadata": {},
     "output_type": "execute_result"
    }
   ],
   "source": [
    "moon_df.select_moon_by_idx(22)"
   ]
  },
  {
   "cell_type": "markdown",
   "id": "4fa3a596",
   "metadata": {},
   "source": [
    "Selecting multiple moons are also possible by putting in a list of moon names or index. <br>\n",
    "The data will be returned as a Moons class containing the chosen moons. <br>\n",
    "Note that the selected data will be returned in the order they are listed."
   ]
  },
  {
   "cell_type": "code",
   "execution_count": 13,
   "id": "30fe6573",
   "metadata": {},
   "outputs": [
    {
     "data": {
      "text/html": [
       "<div>\n",
       "<style scoped>\n",
       "    .dataframe tbody tr th:only-of-type {\n",
       "        vertical-align: middle;\n",
       "    }\n",
       "\n",
       "    .dataframe tbody tr th {\n",
       "        vertical-align: top;\n",
       "    }\n",
       "\n",
       "    .dataframe thead th {\n",
       "        text-align: right;\n",
       "    }\n",
       "</style>\n",
       "<table border=\"1\" class=\"dataframe\">\n",
       "  <thead>\n",
       "    <tr style=\"text-align: right;\">\n",
       "      <th></th>\n",
       "      <th>moon</th>\n",
       "      <th>period_days</th>\n",
       "      <th>distance_km</th>\n",
       "      <th>radius_km</th>\n",
       "      <th>mag</th>\n",
       "      <th>mass_kg</th>\n",
       "      <th>group</th>\n",
       "      <th>ecc</th>\n",
       "      <th>inclination_deg</th>\n",
       "    </tr>\n",
       "  </thead>\n",
       "  <tbody>\n",
       "    <tr>\n",
       "      <th>2</th>\n",
       "      <td>Amalthea</td>\n",
       "      <td>0.498000</td>\n",
       "      <td>181400.0</td>\n",
       "      <td>83.5</td>\n",
       "      <td>14.10</td>\n",
       "      <td>2.080000e+18</td>\n",
       "      <td>Inner</td>\n",
       "      <td>0.00319</td>\n",
       "      <td>0.37</td>\n",
       "    </tr>\n",
       "    <tr>\n",
       "      <th>31</th>\n",
       "      <td>Io</td>\n",
       "      <td>1.750000</td>\n",
       "      <td>421700.0</td>\n",
       "      <td>1821.6</td>\n",
       "      <td>5.02</td>\n",
       "      <td>8.931938e+22</td>\n",
       "      <td>Galilean</td>\n",
       "      <td>0.00410</td>\n",
       "      <td>2.20</td>\n",
       "    </tr>\n",
       "    <tr>\n",
       "      <th>8</th>\n",
       "      <td>Callisto</td>\n",
       "      <td>16.689018</td>\n",
       "      <td>1882700.0</td>\n",
       "      <td>2410.3</td>\n",
       "      <td>5.65</td>\n",
       "      <td>1.075938e+23</td>\n",
       "      <td>Galilean</td>\n",
       "      <td>0.00740</td>\n",
       "      <td>2.02</td>\n",
       "    </tr>\n",
       "    <tr>\n",
       "      <th>1</th>\n",
       "      <td>Aitne</td>\n",
       "      <td>730.000000</td>\n",
       "      <td>23231000.0</td>\n",
       "      <td>1.5</td>\n",
       "      <td>22.70</td>\n",
       "      <td>NaN</td>\n",
       "      <td>Carme</td>\n",
       "      <td>0.26400</td>\n",
       "      <td>165.00</td>\n",
       "    </tr>\n",
       "  </tbody>\n",
       "</table>\n",
       "</div>"
      ],
      "text/plain": [
       "        moon  period_days  distance_km  radius_km    mag       mass_kg  \\\n",
       "2   Amalthea     0.498000     181400.0       83.5  14.10  2.080000e+18   \n",
       "31        Io     1.750000     421700.0     1821.6   5.02  8.931938e+22   \n",
       "8   Callisto    16.689018    1882700.0     2410.3   5.65  1.075938e+23   \n",
       "1      Aitne   730.000000   23231000.0        1.5  22.70           NaN   \n",
       "\n",
       "       group      ecc  inclination_deg  \n",
       "2      Inner  0.00319             0.37  \n",
       "31  Galilean  0.00410             2.20  \n",
       "8   Galilean  0.00740             2.02  \n",
       "1      Carme  0.26400           165.00  "
      ]
     },
     "execution_count": 13,
     "metadata": {},
     "output_type": "execute_result"
    }
   ],
   "source": [
    "selected_data1 = moon_df.select_data(['Amalthea', 'Io', 'Callisto', 'Aitne'])\n",
    "selected_data1.print_data(head = True)"
   ]
  },
  {
   "cell_type": "code",
   "execution_count": 14,
   "id": "ff38ecb3",
   "metadata": {},
   "outputs": [
    {
     "data": {
      "text/html": [
       "<div>\n",
       "<style scoped>\n",
       "    .dataframe tbody tr th:only-of-type {\n",
       "        vertical-align: middle;\n",
       "    }\n",
       "\n",
       "    .dataframe tbody tr th {\n",
       "        vertical-align: top;\n",
       "    }\n",
       "\n",
       "    .dataframe thead th {\n",
       "        text-align: right;\n",
       "    }\n",
       "</style>\n",
       "<table border=\"1\" class=\"dataframe\">\n",
       "  <thead>\n",
       "    <tr style=\"text-align: right;\">\n",
       "      <th></th>\n",
       "      <th>moon</th>\n",
       "      <th>period_days</th>\n",
       "      <th>distance_km</th>\n",
       "      <th>radius_km</th>\n",
       "      <th>mag</th>\n",
       "      <th>mass_kg</th>\n",
       "      <th>group</th>\n",
       "      <th>ecc</th>\n",
       "      <th>inclination_deg</th>\n",
       "    </tr>\n",
       "  </thead>\n",
       "  <tbody>\n",
       "    <tr>\n",
       "      <th>2</th>\n",
       "      <td>Amalthea</td>\n",
       "      <td>0.498000</td>\n",
       "      <td>181400.0</td>\n",
       "      <td>83.5</td>\n",
       "      <td>14.10</td>\n",
       "      <td>2.080000e+18</td>\n",
       "      <td>Inner</td>\n",
       "      <td>0.00319</td>\n",
       "      <td>0.37</td>\n",
       "    </tr>\n",
       "    <tr>\n",
       "      <th>31</th>\n",
       "      <td>Io</td>\n",
       "      <td>1.750000</td>\n",
       "      <td>421700.0</td>\n",
       "      <td>1821.6</td>\n",
       "      <td>5.02</td>\n",
       "      <td>8.931938e+22</td>\n",
       "      <td>Galilean</td>\n",
       "      <td>0.00410</td>\n",
       "      <td>2.20</td>\n",
       "    </tr>\n",
       "    <tr>\n",
       "      <th>8</th>\n",
       "      <td>Callisto</td>\n",
       "      <td>16.689018</td>\n",
       "      <td>1882700.0</td>\n",
       "      <td>2410.3</td>\n",
       "      <td>5.65</td>\n",
       "      <td>1.075938e+23</td>\n",
       "      <td>Galilean</td>\n",
       "      <td>0.00740</td>\n",
       "      <td>2.02</td>\n",
       "    </tr>\n",
       "    <tr>\n",
       "      <th>1</th>\n",
       "      <td>Aitne</td>\n",
       "      <td>730.000000</td>\n",
       "      <td>23231000.0</td>\n",
       "      <td>1.5</td>\n",
       "      <td>22.70</td>\n",
       "      <td>NaN</td>\n",
       "      <td>Carme</td>\n",
       "      <td>0.26400</td>\n",
       "      <td>165.00</td>\n",
       "    </tr>\n",
       "  </tbody>\n",
       "</table>\n",
       "</div>"
      ],
      "text/plain": [
       "        moon  period_days  distance_km  radius_km    mag       mass_kg  \\\n",
       "2   Amalthea     0.498000     181400.0       83.5  14.10  2.080000e+18   \n",
       "31        Io     1.750000     421700.0     1821.6   5.02  8.931938e+22   \n",
       "8   Callisto    16.689018    1882700.0     2410.3   5.65  1.075938e+23   \n",
       "1      Aitne   730.000000   23231000.0        1.5  22.70           NaN   \n",
       "\n",
       "       group      ecc  inclination_deg  \n",
       "2      Inner  0.00319             0.37  \n",
       "31  Galilean  0.00410             2.20  \n",
       "8   Galilean  0.00740             2.02  \n",
       "1      Carme  0.26400           165.00  "
      ]
     },
     "execution_count": 14,
     "metadata": {},
     "output_type": "execute_result"
    }
   ],
   "source": [
    "selected_data2 = moon_df.select_data([2, 31, 8, 1])\n",
    "selected_data2.print_data(head = True)"
   ]
  },
  {
   "cell_type": "markdown",
   "id": "905a6f90",
   "metadata": {},
   "source": [
    "## Print Moon Data\n",
    "`moon_df.print_data()` allows us to print the data of required moons from the dataframe. <br>\n",
    "Note that this function will only print out the data and not creating a new moons class.\n",
    "If pass through argument `head = True`, then it will only print out the first 5 data."
   ]
  },
  {
   "cell_type": "code",
   "execution_count": 15,
   "id": "5487c4df",
   "metadata": {},
   "outputs": [
    {
     "data": {
      "text/html": [
       "<div>\n",
       "<style scoped>\n",
       "    .dataframe tbody tr th:only-of-type {\n",
       "        vertical-align: middle;\n",
       "    }\n",
       "\n",
       "    .dataframe tbody tr th {\n",
       "        vertical-align: top;\n",
       "    }\n",
       "\n",
       "    .dataframe thead th {\n",
       "        text-align: right;\n",
       "    }\n",
       "</style>\n",
       "<table border=\"1\" class=\"dataframe\">\n",
       "  <thead>\n",
       "    <tr style=\"text-align: right;\">\n",
       "      <th></th>\n",
       "      <th>moon</th>\n",
       "      <th>period_days</th>\n",
       "      <th>distance_km</th>\n",
       "      <th>radius_km</th>\n",
       "      <th>mag</th>\n",
       "      <th>mass_kg</th>\n",
       "      <th>group</th>\n",
       "      <th>ecc</th>\n",
       "      <th>inclination_deg</th>\n",
       "    </tr>\n",
       "  </thead>\n",
       "  <tbody>\n",
       "    <tr>\n",
       "      <th>5</th>\n",
       "      <td>Arche</td>\n",
       "      <td>724.0</td>\n",
       "      <td>22931000.0</td>\n",
       "      <td>1.50</td>\n",
       "      <td>22.8</td>\n",
       "      <td>NaN</td>\n",
       "      <td>Carme</td>\n",
       "      <td>0.259000</td>\n",
       "      <td>165.0</td>\n",
       "    </tr>\n",
       "    <tr>\n",
       "      <th>9</th>\n",
       "      <td>Carme</td>\n",
       "      <td>693.0</td>\n",
       "      <td>22579850.0</td>\n",
       "      <td>23.35</td>\n",
       "      <td>18.9</td>\n",
       "      <td>NaN</td>\n",
       "      <td>Carme</td>\n",
       "      <td>0.229493</td>\n",
       "      <td>163.0</td>\n",
       "    </tr>\n",
       "    <tr>\n",
       "      <th>35</th>\n",
       "      <td>Kallichore</td>\n",
       "      <td>765.0</td>\n",
       "      <td>24043000.0</td>\n",
       "      <td>1.00</td>\n",
       "      <td>23.7</td>\n",
       "      <td>NaN</td>\n",
       "      <td>Carme</td>\n",
       "      <td>0.264000</td>\n",
       "      <td>165.5</td>\n",
       "    </tr>\n",
       "    <tr>\n",
       "      <th>42</th>\n",
       "      <td>Mneme</td>\n",
       "      <td>620.0</td>\n",
       "      <td>21069000.0</td>\n",
       "      <td>1.00</td>\n",
       "      <td>23.3</td>\n",
       "      <td>NaN</td>\n",
       "      <td>Ananke</td>\n",
       "      <td>0.227000</td>\n",
       "      <td>148.6</td>\n",
       "    </tr>\n",
       "  </tbody>\n",
       "</table>\n",
       "</div>"
      ],
      "text/plain": [
       "          moon  period_days  distance_km  radius_km   mag  mass_kg   group  \\\n",
       "5        Arche        724.0   22931000.0       1.50  22.8      NaN   Carme   \n",
       "9        Carme        693.0   22579850.0      23.35  18.9      NaN   Carme   \n",
       "35  Kallichore        765.0   24043000.0       1.00  23.7      NaN   Carme   \n",
       "42       Mneme        620.0   21069000.0       1.00  23.3      NaN  Ananke   \n",
       "\n",
       "         ecc  inclination_deg  \n",
       "5   0.259000            165.0  \n",
       "9   0.229493            163.0  \n",
       "35  0.264000            165.5  \n",
       "42  0.227000            148.6  "
      ]
     },
     "execution_count": 15,
     "metadata": {},
     "output_type": "execute_result"
    }
   ],
   "source": [
    "moon_df.print_data([5, 9, 35, 42])"
   ]
  },
  {
   "cell_type": "markdown",
   "id": "103c94f2",
   "metadata": {},
   "source": [
    "# 2 Data Analytics\n",
    "## Drop Missing Data\n",
    "In this part, we will be dropping out the column 'mass_kg' since it is mostly populated by missing values. <br>\n",
    "Futhermore, we will use drop_na to remove the remaining rows that contains missing value. <br>\n",
    "Here, we will use `moon_df` to proceed with the analytics."
   ]
  },
  {
   "cell_type": "code",
   "execution_count": 16,
   "id": "acdaa362",
   "metadata": {},
   "outputs": [],
   "source": [
    "moon_df.drop_columns('mass_kg')"
   ]
  },
  {
   "cell_type": "code",
   "execution_count": 17,
   "id": "67d76f37",
   "metadata": {},
   "outputs": [
    {
     "data": {
      "text/plain": [
       "moon               0\n",
       "period_days        0\n",
       "distance_km        0\n",
       "radius_km          0\n",
       "mag                3\n",
       "group              0\n",
       "ecc                0\n",
       "inclination_deg    0\n",
       "dtype: int64"
      ]
     },
     "execution_count": 17,
     "metadata": {},
     "output_type": "execute_result"
    }
   ],
   "source": [
    "moon_df.check_na()"
   ]
  },
  {
   "cell_type": "code",
   "execution_count": 18,
   "id": "3628c8c7",
   "metadata": {},
   "outputs": [],
   "source": [
    "moon_df.drop_na()"
   ]
  },
  {
   "cell_type": "code",
   "execution_count": 19,
   "id": "13775d7b",
   "metadata": {},
   "outputs": [
    {
     "data": {
      "text/plain": [
       "moon               0\n",
       "period_days        0\n",
       "distance_km        0\n",
       "radius_km          0\n",
       "mag                0\n",
       "group              0\n",
       "ecc                0\n",
       "inclination_deg    0\n",
       "dtype: int64"
      ]
     },
     "execution_count": 19,
     "metadata": {},
     "output_type": "execute_result"
    }
   ],
   "source": [
    "moon_df.check_na()"
   ]
  },
  {
   "cell_type": "markdown",
   "id": "9fed8dba",
   "metadata": {},
   "source": [
    "## Summary\n",
    "After removing missing values from our dataset, we proceed to obtain the summary of the data."
   ]
  },
  {
   "cell_type": "code",
   "execution_count": 20,
   "id": "29ffb27a",
   "metadata": {},
   "outputs": [
    {
     "data": {
      "text/html": [
       "<div>\n",
       "<style scoped>\n",
       "    .dataframe tbody tr th:only-of-type {\n",
       "        vertical-align: middle;\n",
       "    }\n",
       "\n",
       "    .dataframe tbody tr th {\n",
       "        vertical-align: top;\n",
       "    }\n",
       "\n",
       "    .dataframe thead th {\n",
       "        text-align: right;\n",
       "    }\n",
       "</style>\n",
       "<table border=\"1\" class=\"dataframe\">\n",
       "  <thead>\n",
       "    <tr style=\"text-align: right;\">\n",
       "      <th></th>\n",
       "      <th>period_days</th>\n",
       "      <th>distance_km</th>\n",
       "      <th>radius_km</th>\n",
       "      <th>mag</th>\n",
       "      <th>ecc</th>\n",
       "      <th>inclination_deg</th>\n",
       "    </tr>\n",
       "  </thead>\n",
       "  <tbody>\n",
       "    <tr>\n",
       "      <th>count</th>\n",
       "      <td>53.000000</td>\n",
       "      <td>5.300000e+01</td>\n",
       "      <td>53.000000</td>\n",
       "      <td>53.000000</td>\n",
       "      <td>53.000000</td>\n",
       "      <td>53.000000</td>\n",
       "    </tr>\n",
       "    <tr>\n",
       "      <th>mean</th>\n",
       "      <td>555.747891</td>\n",
       "      <td>1.875261e+07</td>\n",
       "      <td>166.483019</td>\n",
       "      <td>20.418302</td>\n",
       "      <td>0.235178</td>\n",
       "      <td>119.941132</td>\n",
       "    </tr>\n",
       "    <tr>\n",
       "      <th>std</th>\n",
       "      <td>248.595730</td>\n",
       "      <td>7.292305e+06</td>\n",
       "      <td>572.641913</td>\n",
       "      <td>4.926587</td>\n",
       "      <td>0.119042</td>\n",
       "      <td>60.306852</td>\n",
       "    </tr>\n",
       "    <tr>\n",
       "      <th>min</th>\n",
       "      <td>0.498000</td>\n",
       "      <td>1.814000e+05</td>\n",
       "      <td>1.000000</td>\n",
       "      <td>4.610000</td>\n",
       "      <td>0.001300</td>\n",
       "      <td>0.370000</td>\n",
       "    </tr>\n",
       "    <tr>\n",
       "      <th>25%</th>\n",
       "      <td>456.000000</td>\n",
       "      <td>1.698900e+07</td>\n",
       "      <td>1.500000</td>\n",
       "      <td>20.800000</td>\n",
       "      <td>0.174725</td>\n",
       "      <td>51.400000</td>\n",
       "    </tr>\n",
       "    <tr>\n",
       "      <th>50%</th>\n",
       "      <td>641.000000</td>\n",
       "      <td>2.143165e+07</td>\n",
       "      <td>2.000000</td>\n",
       "      <td>22.500000</td>\n",
       "      <td>0.229493</td>\n",
       "      <td>148.900000</td>\n",
       "    </tr>\n",
       "    <tr>\n",
       "      <th>75%</th>\n",
       "      <td>730.000000</td>\n",
       "      <td>2.348700e+07</td>\n",
       "      <td>4.800000</td>\n",
       "      <td>23.000000</td>\n",
       "      <td>0.302822</td>\n",
       "      <td>162.700000</td>\n",
       "    </tr>\n",
       "    <tr>\n",
       "      <th>max</th>\n",
       "      <td>787.000000</td>\n",
       "      <td>2.458309e+07</td>\n",
       "      <td>2634.100000</td>\n",
       "      <td>23.700000</td>\n",
       "      <td>0.611016</td>\n",
       "      <td>166.200000</td>\n",
       "    </tr>\n",
       "  </tbody>\n",
       "</table>\n",
       "</div>"
      ],
      "text/plain": [
       "       period_days   distance_km    radius_km        mag        ecc  \\\n",
       "count    53.000000  5.300000e+01    53.000000  53.000000  53.000000   \n",
       "mean    555.747891  1.875261e+07   166.483019  20.418302   0.235178   \n",
       "std     248.595730  7.292305e+06   572.641913   4.926587   0.119042   \n",
       "min       0.498000  1.814000e+05     1.000000   4.610000   0.001300   \n",
       "25%     456.000000  1.698900e+07     1.500000  20.800000   0.174725   \n",
       "50%     641.000000  2.143165e+07     2.000000  22.500000   0.229493   \n",
       "75%     730.000000  2.348700e+07     4.800000  23.000000   0.302822   \n",
       "max     787.000000  2.458309e+07  2634.100000  23.700000   0.611016   \n",
       "\n",
       "       inclination_deg  \n",
       "count        53.000000  \n",
       "mean        119.941132  \n",
       "std          60.306852  \n",
       "min           0.370000  \n",
       "25%          51.400000  \n",
       "50%         148.900000  \n",
       "75%         162.700000  \n",
       "max         166.200000  "
      ]
     },
     "execution_count": 20,
     "metadata": {},
     "output_type": "execute_result"
    }
   ],
   "source": [
    "moon_df.summary()"
   ]
  },
  {
   "cell_type": "markdown",
   "id": "645aa0e9",
   "metadata": {},
   "source": [
    "## Correlation\n",
    "We can create a correlation matrix to see the correlations between variables. <br>\n",
    "A heatmap can show us a clearer picture of correlation of the variables."
   ]
  },
  {
   "cell_type": "code",
   "execution_count": 21,
   "id": "cfd161ee",
   "metadata": {},
   "outputs": [
    {
     "name": "stderr",
     "output_type": "stream",
     "text": [
      "C:\\Users\\User\\OneDrive\\Documents\\Programming\\Programming and Data Analysis\\assessment_1\\jupiter_package\\jupiter.py:162: FutureWarning: The default value of numeric_only in DataFrame.corr is deprecated. In a future version, it will default to False. Select only valid columns or specify the value of numeric_only to silence this warning.\n",
      "  return self.__data.corr()\n"
     ]
    },
    {
     "data": {
      "text/html": [
       "<div>\n",
       "<style scoped>\n",
       "    .dataframe tbody tr th:only-of-type {\n",
       "        vertical-align: middle;\n",
       "    }\n",
       "\n",
       "    .dataframe tbody tr th {\n",
       "        vertical-align: top;\n",
       "    }\n",
       "\n",
       "    .dataframe thead th {\n",
       "        text-align: right;\n",
       "    }\n",
       "</style>\n",
       "<table border=\"1\" class=\"dataframe\">\n",
       "  <thead>\n",
       "    <tr style=\"text-align: right;\">\n",
       "      <th></th>\n",
       "      <th>period_days</th>\n",
       "      <th>distance_km</th>\n",
       "      <th>radius_km</th>\n",
       "      <th>mag</th>\n",
       "      <th>ecc</th>\n",
       "      <th>inclination_deg</th>\n",
       "    </tr>\n",
       "  </thead>\n",
       "  <tbody>\n",
       "    <tr>\n",
       "      <th>period_days</th>\n",
       "      <td>1.000000</td>\n",
       "      <td>0.990942</td>\n",
       "      <td>-0.633738</td>\n",
       "      <td>0.742646</td>\n",
       "      <td>0.677253</td>\n",
       "      <td>0.963629</td>\n",
       "    </tr>\n",
       "    <tr>\n",
       "      <th>distance_km</th>\n",
       "      <td>0.990942</td>\n",
       "      <td>1.000000</td>\n",
       "      <td>-0.695516</td>\n",
       "      <td>0.799187</td>\n",
       "      <td>0.690582</td>\n",
       "      <td>0.948029</td>\n",
       "    </tr>\n",
       "    <tr>\n",
       "      <th>radius_km</th>\n",
       "      <td>-0.633738</td>\n",
       "      <td>-0.695516</td>\n",
       "      <td>1.000000</td>\n",
       "      <td>-0.887393</td>\n",
       "      <td>-0.551706</td>\n",
       "      <td>-0.564173</td>\n",
       "    </tr>\n",
       "    <tr>\n",
       "      <th>mag</th>\n",
       "      <td>0.742646</td>\n",
       "      <td>0.799187</td>\n",
       "      <td>-0.887393</td>\n",
       "      <td>1.000000</td>\n",
       "      <td>0.554617</td>\n",
       "      <td>0.688529</td>\n",
       "    </tr>\n",
       "    <tr>\n",
       "      <th>ecc</th>\n",
       "      <td>0.677253</td>\n",
       "      <td>0.690582</td>\n",
       "      <td>-0.551706</td>\n",
       "      <td>0.554617</td>\n",
       "      <td>1.000000</td>\n",
       "      <td>0.572838</td>\n",
       "    </tr>\n",
       "    <tr>\n",
       "      <th>inclination_deg</th>\n",
       "      <td>0.963629</td>\n",
       "      <td>0.948029</td>\n",
       "      <td>-0.564173</td>\n",
       "      <td>0.688529</td>\n",
       "      <td>0.572838</td>\n",
       "      <td>1.000000</td>\n",
       "    </tr>\n",
       "  </tbody>\n",
       "</table>\n",
       "</div>"
      ],
      "text/plain": [
       "                 period_days  distance_km  radius_km       mag       ecc  \\\n",
       "period_days         1.000000     0.990942  -0.633738  0.742646  0.677253   \n",
       "distance_km         0.990942     1.000000  -0.695516  0.799187  0.690582   \n",
       "radius_km          -0.633738    -0.695516   1.000000 -0.887393 -0.551706   \n",
       "mag                 0.742646     0.799187  -0.887393  1.000000  0.554617   \n",
       "ecc                 0.677253     0.690582  -0.551706  0.554617  1.000000   \n",
       "inclination_deg     0.963629     0.948029  -0.564173  0.688529  0.572838   \n",
       "\n",
       "                 inclination_deg  \n",
       "period_days             0.963629  \n",
       "distance_km             0.948029  \n",
       "radius_km              -0.564173  \n",
       "mag                     0.688529  \n",
       "ecc                     0.572838  \n",
       "inclination_deg         1.000000  "
      ]
     },
     "execution_count": 21,
     "metadata": {},
     "output_type": "execute_result"
    }
   ],
   "source": [
    "moon_df.correlation()"
   ]
  },
  {
   "cell_type": "code",
   "execution_count": 22,
   "id": "e6779a77",
   "metadata": {},
   "outputs": [
    {
     "name": "stderr",
     "output_type": "stream",
     "text": [
      "C:\\Users\\User\\OneDrive\\Documents\\Programming\\Programming and Data Analysis\\assessment_1\\jupiter_package\\jupiter.py:162: FutureWarning: The default value of numeric_only in DataFrame.corr is deprecated. In a future version, it will default to False. Select only valid columns or specify the value of numeric_only to silence this warning.\n",
      "  return self.__data.corr()\n"
     ]
    },
    {
     "data": {
      "image/png": "[encoded data removed]",
      "text/plain": [
       "<Figure size 600x400 with 2 Axes>"
      ]
     },
     "metadata": {},
     "output_type": "display_data"
    }
   ],
   "source": [
    "moon_df.plot_corr_matrix()"
   ]
  },
  {
   "cell_type": "markdown",
   "id": "6a14def4",
   "metadata": {},
   "source": [
    "### Strong Positive Correlation (0.7 <= r < 1)\n",
    "When a strong positive correlation is detected, it indicates positive linear relationship between the variables.<br>\n",
    "Two variable with strong positive correlation will be moving in a single direction, for instance the value of variables will be increasing together or vise versa. <br>\n",
    "From our correlation matrix, we can observe that there are five pairs of variables with strong linear relationship.<br>\n",
    "**1. `period_days` and `distance_km` (0.9909)**<br>\n",
    "**2. `period_days` and `inclination_deg` (0.9636)**<br>\n",
    "**3. `period_days` and `mag` (0.7426)**<br>\n",
    "**4. `distance_km` and `mag` (0.7992)**<br>\n",
    "**5. `distance_km` and `inclination_deg` (0.9480)**<br>\n",
    "\n",
    "### Strong Negative Correlation (-1 < r <= -0.7)\n",
    "When a strong negative correlation is seen, it shows an inverse linear relationship between the variables.<br>\n",
    "While one of the variable increases in value, the other variable will then decrease proportionally.<br>\n",
    "In our correlation matrix, there is a pair of strong negative correlation variables. <br>\n",
    "**1. `radius_km` and `mag` (-0.8874)**<br>\n",
    "\n",
    "### Kepler's 3rd Law\n",
    "While we are interested in Kepler's Third Law, we will be particularly interested in the variable `period_days`.<br>\n",
    "Therefore, we will be focusing the remaining of the analysis on the variables which have strong correlation with `period_days`. <br>\n",
    "According to the correlation matrix, we shall focus mainly on `distance_km` and `inclination_deg`. <br>\n",
    "We should also check and see if `mag` has any visible relation with the increment in `period_days`."
   ]
  },
  {
   "cell_type": "markdown",
   "id": "1e640a58",
   "metadata": {},
   "source": [
    "## Checking Max and Min\n",
    "We can use the function written to check the max or min data according to our chosen variables."
   ]
  },
  {
   "cell_type": "code",
   "execution_count": 23,
   "id": "134d3d5a",
   "metadata": {},
   "outputs": [
    {
     "data": {
      "text/html": [
       "<div>\n",
       "<style scoped>\n",
       "    .dataframe tbody tr th:only-of-type {\n",
       "        vertical-align: middle;\n",
       "    }\n",
       "\n",
       "    .dataframe tbody tr th {\n",
       "        vertical-align: top;\n",
       "    }\n",
       "\n",
       "    .dataframe thead th {\n",
       "        text-align: right;\n",
       "    }\n",
       "</style>\n",
       "<table border=\"1\" class=\"dataframe\">\n",
       "  <thead>\n",
       "    <tr style=\"text-align: right;\">\n",
       "      <th></th>\n",
       "      <th>moon</th>\n",
       "      <th>period_days</th>\n",
       "      <th>distance_km</th>\n",
       "      <th>radius_km</th>\n",
       "      <th>mag</th>\n",
       "      <th>group</th>\n",
       "      <th>ecc</th>\n",
       "      <th>inclination_deg</th>\n",
       "    </tr>\n",
       "  </thead>\n",
       "  <tbody>\n",
       "    <tr>\n",
       "      <th>8</th>\n",
       "      <td>Callisto</td>\n",
       "      <td>16.689018</td>\n",
       "      <td>1882700.0</td>\n",
       "      <td>2410.3</td>\n",
       "      <td>5.65</td>\n",
       "      <td>Galilean</td>\n",
       "      <td>0.0074</td>\n",
       "      <td>2.02</td>\n",
       "    </tr>\n",
       "  </tbody>\n",
       "</table>\n",
       "</div>"
      ],
      "text/plain": [
       "       moon  period_days  distance_km  radius_km   mag     group     ecc  \\\n",
       "8  Callisto    16.689018    1882700.0     2410.3  5.65  Galilean  0.0074   \n",
       "\n",
       "   inclination_deg  \n",
       "8             2.02  "
      ]
     },
     "execution_count": 23,
     "metadata": {},
     "output_type": "execute_result"
    }
   ],
   "source": [
    "moon_df.max_min_by_col('period_days', type = 'max')"
   ]
  },
  {
   "cell_type": "code",
   "execution_count": 24,
   "id": "71da034a",
   "metadata": {},
   "outputs": [
    {
     "data": {
      "text/html": [
       "<div>\n",
       "<style scoped>\n",
       "    .dataframe tbody tr th:only-of-type {\n",
       "        vertical-align: middle;\n",
       "    }\n",
       "\n",
       "    .dataframe tbody tr th {\n",
       "        vertical-align: top;\n",
       "    }\n",
       "\n",
       "    .dataframe thead th {\n",
       "        text-align: right;\n",
       "    }\n",
       "</style>\n",
       "<table border=\"1\" class=\"dataframe\">\n",
       "  <thead>\n",
       "    <tr style=\"text-align: right;\">\n",
       "      <th></th>\n",
       "      <th>moon</th>\n",
       "      <th>period_days</th>\n",
       "      <th>distance_km</th>\n",
       "      <th>radius_km</th>\n",
       "      <th>mag</th>\n",
       "      <th>group</th>\n",
       "      <th>ecc</th>\n",
       "      <th>inclination_deg</th>\n",
       "    </tr>\n",
       "  </thead>\n",
       "  <tbody>\n",
       "    <tr>\n",
       "      <th>8</th>\n",
       "      <td>Callisto</td>\n",
       "      <td>16.689018</td>\n",
       "      <td>1882700.0</td>\n",
       "      <td>2410.3</td>\n",
       "      <td>5.65</td>\n",
       "      <td>Galilean</td>\n",
       "      <td>0.0074</td>\n",
       "      <td>2.02</td>\n",
       "    </tr>\n",
       "  </tbody>\n",
       "</table>\n",
       "</div>"
      ],
      "text/plain": [
       "       moon  period_days  distance_km  radius_km   mag     group     ecc  \\\n",
       "8  Callisto    16.689018    1882700.0     2410.3  5.65  Galilean  0.0074   \n",
       "\n",
       "   inclination_deg  \n",
       "8             2.02  "
      ]
     },
     "execution_count": 24,
     "metadata": {},
     "output_type": "execute_result"
    }
   ],
   "source": [
    "moon_df.max_min_by_col('distance_km', type = 'max')"
   ]
  },
  {
   "cell_type": "code",
   "execution_count": 25,
   "id": "84cc97b0",
   "metadata": {},
   "outputs": [
    {
     "data": {
      "text/html": [
       "<div>\n",
       "<style scoped>\n",
       "    .dataframe tbody tr th:only-of-type {\n",
       "        vertical-align: middle;\n",
       "    }\n",
       "\n",
       "    .dataframe tbody tr th {\n",
       "        vertical-align: top;\n",
       "    }\n",
       "\n",
       "    .dataframe thead th {\n",
       "        text-align: right;\n",
       "    }\n",
       "</style>\n",
       "<table border=\"1\" class=\"dataframe\">\n",
       "  <thead>\n",
       "    <tr style=\"text-align: right;\">\n",
       "      <th></th>\n",
       "      <th>moon</th>\n",
       "      <th>period_days</th>\n",
       "      <th>distance_km</th>\n",
       "      <th>radius_km</th>\n",
       "      <th>mag</th>\n",
       "      <th>group</th>\n",
       "      <th>ecc</th>\n",
       "      <th>inclination_deg</th>\n",
       "    </tr>\n",
       "  </thead>\n",
       "  <tbody>\n",
       "    <tr>\n",
       "      <th>3</th>\n",
       "      <td>Ananke</td>\n",
       "      <td>630.0</td>\n",
       "      <td>21300000.0</td>\n",
       "      <td>14.0</td>\n",
       "      <td>18.9</td>\n",
       "      <td>Ananke</td>\n",
       "      <td>0.174725</td>\n",
       "      <td>148.6</td>\n",
       "    </tr>\n",
       "  </tbody>\n",
       "</table>\n",
       "</div>"
      ],
      "text/plain": [
       "     moon  period_days  distance_km  radius_km   mag   group       ecc  \\\n",
       "3  Ananke        630.0   21300000.0       14.0  18.9  Ananke  0.174725   \n",
       "\n",
       "   inclination_deg  \n",
       "3            148.6  "
      ]
     },
     "execution_count": 25,
     "metadata": {},
     "output_type": "execute_result"
    }
   ],
   "source": [
    "moon_df.max_min_by_col('period_days', type = 'min')"
   ]
  },
  {
   "cell_type": "code",
   "execution_count": 26,
   "id": "55ea59d5",
   "metadata": {},
   "outputs": [
    {
     "data": {
      "text/html": [
       "<div>\n",
       "<style scoped>\n",
       "    .dataframe tbody tr th:only-of-type {\n",
       "        vertical-align: middle;\n",
       "    }\n",
       "\n",
       "    .dataframe tbody tr th {\n",
       "        vertical-align: top;\n",
       "    }\n",
       "\n",
       "    .dataframe thead th {\n",
       "        text-align: right;\n",
       "    }\n",
       "</style>\n",
       "<table border=\"1\" class=\"dataframe\">\n",
       "  <thead>\n",
       "    <tr style=\"text-align: right;\">\n",
       "      <th></th>\n",
       "      <th>moon</th>\n",
       "      <th>period_days</th>\n",
       "      <th>distance_km</th>\n",
       "      <th>radius_km</th>\n",
       "      <th>mag</th>\n",
       "      <th>group</th>\n",
       "      <th>ecc</th>\n",
       "      <th>inclination_deg</th>\n",
       "    </tr>\n",
       "  </thead>\n",
       "  <tbody>\n",
       "    <tr>\n",
       "      <th>3</th>\n",
       "      <td>Ananke</td>\n",
       "      <td>630.0</td>\n",
       "      <td>21300000.0</td>\n",
       "      <td>14.0</td>\n",
       "      <td>18.9</td>\n",
       "      <td>Ananke</td>\n",
       "      <td>0.174725</td>\n",
       "      <td>148.6</td>\n",
       "    </tr>\n",
       "  </tbody>\n",
       "</table>\n",
       "</div>"
      ],
      "text/plain": [
       "     moon  period_days  distance_km  radius_km   mag   group       ecc  \\\n",
       "3  Ananke        630.0   21300000.0       14.0  18.9  Ananke  0.174725   \n",
       "\n",
       "   inclination_deg  \n",
       "3            148.6  "
      ]
     },
     "execution_count": 26,
     "metadata": {},
     "output_type": "execute_result"
    }
   ],
   "source": [
    "moon_df.max_min_by_col('distance_km', type = 'min')"
   ]
  },
  {
   "cell_type": "markdown",
   "id": "8a8a152d",
   "metadata": {},
   "source": [
    "Here we have tested the max and min for our pair of variables (`period_days` and `distance_km`) which has the strongest positive correlation. <br>\n",
    "Notice that their max data and min data is the exact same moon and hence we can deduce that ourr suggestion about strong positive correlation is true."
   ]
  },
  {
   "cell_type": "markdown",
   "id": "09191c07",
   "metadata": {},
   "source": [
    "## Plotting (Scatter Plot, Histogram and Boxplot)\n",
    "Since we are interested in Kepler's Third Law, we will be plotting our plots according to the variables that are related to it. <br>\n",
    "In this case it would be `period_days` and the variables which has strong correlation with it: `distance_km`, `inclination_deg` and `mag`."
   ]
  },
  {
   "cell_type": "code",
   "execution_count": 27,
   "id": "ae305fdb",
   "metadata": {},
   "outputs": [
    {
     "data": {
      "image/png": "[encoded data removed]",
      "text/plain": [
       "<Figure size 400x400 with 1 Axes>"
      ]
     },
     "metadata": {},
     "output_type": "display_data"
    }
   ],
   "source": [
    "moon_df.plot(x = 'period_days', y = 'distance_km', hue = 'group', plot = 'scatter')"
   ]
  },
  {
   "cell_type": "code",
   "execution_count": 28,
   "id": "d383590a",
   "metadata": {},
   "outputs": [
    {
     "data": {
      "image/png": "[encoded data removed]",
      "text/plain": [
       "<Figure size 400x400 with 1 Axes>"
      ]
     },
     "metadata": {},
     "output_type": "display_data"
    }
   ],
   "source": [
    "moon_df.plot(x = 'period_days', y = 'inclination_deg', hue = 'group', plot = 'scatter')"
   ]
  },
  {
   "cell_type": "code",
   "execution_count": 29,
   "id": "48269764",
   "metadata": {},
   "outputs": [
    {
     "data": {
      "image/png": "[encoded data removed]",
      "text/plain": [
       "<Figure size 400x400 with 1 Axes>"
      ]
     },
     "metadata": {},
     "output_type": "display_data"
    }
   ],
   "source": [
    "moon_df.plot(x = 'period_days', y = 'mag', hue = 'group', plot = 'scatter')"
   ]
  },
  {
   "cell_type": "markdown",
   "id": "430ac1bf",
   "metadata": {},
   "source": [
    "### Scatter Plot\n",
    "From the scatter plot we can observe that `distance_km` is increasing almost linearly with `period_days`.<br> \n",
    "While `inclination_deg` also increases as `period_days` increases, the trend is considered irregular. Therefore it might not be a good estimate for `period_days`. <br>\n",
    "The scatter plot of `mag` and `period_days` shows that it would be unreliable to estimate `period_days` with `mag` since their relationship is very volatile. <br>\n",
    "It will be interesting to note that most of the clusters formed in these scatter plot are moons from the same group."
   ]
  },
  {
   "cell_type": "markdown",
   "id": "3e1c17e7",
   "metadata": {},
   "source": [
    "We will now move towards histogram and boxplot to check the relation of `period_days` with `distance_km` and `inclination_deg`."
   ]
  },
  {
   "cell_type": "code",
   "execution_count": 30,
   "id": "e457a641",
   "metadata": {},
   "outputs": [
    {
     "name": "stderr",
     "output_type": "stream",
     "text": [
      "C:\\Users\\User\\OneDrive\\Documents\\Programming\\Programming and Data Analysis\\assessment_1\\jupiter_package\\jupiter.py:210: UserWarning: Ignoring `palette` because no `hue` variable has been assigned.\n",
      "  sns.histplot(self.__data, x = x, y = y, hue = hue, palette = 'pastel')\n"
     ]
    },
    {
     "data": {
      "image/png": "[encoded data removed]",
      "text/plain": [
       "<Figure size 500x300 with 1 Axes>"
      ]
     },
     "metadata": {},
     "output_type": "display_data"
    }
   ],
   "source": [
    "moon_df.plot(x = 'period_days', plot = 'histogram')"
   ]
  },
  {
   "cell_type": "code",
   "execution_count": 31,
   "id": "a77808ba",
   "metadata": {},
   "outputs": [
    {
     "data": {
      "image/png": "[encoded data removed]",
      "text/plain": [
       "<Figure size 500x300 with 1 Axes>"
      ]
     },
     "metadata": {},
     "output_type": "display_data"
    }
   ],
   "source": [
    "moon_df.plot(x = 'period_days', plot = 'boxplot')"
   ]
  },
  {
   "cell_type": "code",
   "execution_count": 32,
   "id": "e921e516",
   "metadata": {},
   "outputs": [
    {
     "name": "stderr",
     "output_type": "stream",
     "text": [
      "C:\\Users\\User\\OneDrive\\Documents\\Programming\\Programming and Data Analysis\\assessment_1\\jupiter_package\\jupiter.py:210: UserWarning: Ignoring `palette` because no `hue` variable has been assigned.\n",
      "  sns.histplot(self.__data, x = x, y = y, hue = hue, palette = 'pastel')\n"
     ]
    },
    {
     "data": {
      "image/png": "[encoded data removed]",
      "text/plain": [
       "<Figure size 500x300 with 1 Axes>"
      ]
     },
     "metadata": {},
     "output_type": "display_data"
    }
   ],
   "source": [
    "moon_df.plot(x = 'distance_km', plot = 'histogram')"
   ]
  },
  {
   "cell_type": "code",
   "execution_count": 33,
   "id": "5e3706cc",
   "metadata": {},
   "outputs": [
    {
     "data": {
      "image/png": "[encoded data removed]",
      "text/plain": [
       "<Figure size 500x300 with 1 Axes>"
      ]
     },
     "metadata": {},
     "output_type": "display_data"
    }
   ],
   "source": [
    "moon_df.plot(x = 'distance_km', plot = 'boxplot')"
   ]
  },
  {
   "cell_type": "code",
   "execution_count": 34,
   "id": "aee7d41b",
   "metadata": {},
   "outputs": [
    {
     "name": "stderr",
     "output_type": "stream",
     "text": [
      "C:\\Users\\User\\OneDrive\\Documents\\Programming\\Programming and Data Analysis\\assessment_1\\jupiter_package\\jupiter.py:210: UserWarning: Ignoring `palette` because no `hue` variable has been assigned.\n",
      "  sns.histplot(self.__data, x = x, y = y, hue = hue, palette = 'pastel')\n"
     ]
    },
    {
     "data": {
      "image/png": "[encoded data removed]",
      "text/plain": [
       "<Figure size 500x300 with 1 Axes>"
      ]
     },
     "metadata": {},
     "output_type": "display_data"
    }
   ],
   "source": [
    "moon_df.plot(x = 'inclination_deg', plot = 'histogram')"
   ]
  },
  {
   "cell_type": "code",
   "execution_count": 35,
   "id": "f5c70193",
   "metadata": {},
   "outputs": [
    {
     "data": {
      "image/png": "[encoded data removed]",
      "text/plain": [
       "<Figure size 500x300 with 1 Axes>"
      ]
     },
     "metadata": {},
     "output_type": "display_data"
    }
   ],
   "source": [
    "moon_df.plot(x = 'inclination_deg', plot = 'boxplot')"
   ]
  },
  {
   "cell_type": "markdown",
   "id": "45cf4d23",
   "metadata": {},
   "source": [
    "### Histogram and Boxplot\n",
    "By comparing histogram and boxplot of each variable, we notice that both `period_days` and `distance_km` has outliers. <br>\n",
    "Since they are increasing linearly and that the outliers are both on the left side (according to boxplot), we can tell that the outliers are actually the same moons. <br>\n",
    "As we can observe, there shall be approximately 5 outliers each. However since they are common moons in both case, we can make a good guess that the outliers are valid data points, where they might be indicative of different pattern in the data.<br>\n",
    "On the other hand, we can see that for `inclination_deg`, the boxplot indicated that there are no outliers. But we can see from the histogram that the data is spreaded very unevenly, where there is a huge gap in the middle values of the data.<br>\n",
    "Therefore, `inclination_deg` might not be a good estimator for our `period_days`."
   ]
  },
  {
   "cell_type": "markdown",
   "id": "7f58b811",
   "metadata": {},
   "source": [
    "## Extra: Grouped Analysis Summary\n",
    "We will do a very simple summary by grouping the our data according to group. <br>\n",
    "From this we will be able to obtain some interesting insights on the data. "
   ]
  },
  {
   "cell_type": "code",
   "execution_count": 36,
   "id": "f24e04e6",
   "metadata": {},
   "outputs": [
    {
     "name": "stdout",
     "output_type": "stream",
     "text": [
      "Group count by group :\n",
      " group\n",
      "Ananke      13\n",
      "Carme       14\n",
      "Galilean     4\n",
      "Hamilia      1\n",
      "Himalia      6\n",
      "Inner        1\n",
      "Pasiphae    12\n",
      "other        2\n",
      "dtype: int64\n",
      "\n",
      "Mean by group :\n",
      "           period_days   distance_km    radius_km        mag       ecc  \\\n",
      "group                                                                   \n",
      "Ananke     616.076923  2.097923e+07     2.653846  22.330769  0.233728   \n",
      "Carme      721.642857  2.329515e+07     3.275000  22.450000  0.240148   \n",
      "Galilean     7.285050  1.011425e+06  2106.700000   5.142500  0.005450   \n",
      "Hamilia    258.000000  1.170071e+07    21.000000  18.200000  0.147873   \n",
      "Himalia    256.666667  1.156897e+07    23.458333  19.950000  0.166636   \n",
      "Inner        0.498000  1.814000e+05    83.500000  14.100000  0.003190   \n",
      "Pasiphae   744.083333  2.377494e+07     5.433333  21.750000  0.350750   \n",
      "other      293.000000  1.219256e+07     3.000000  22.000000  0.341106   \n",
      "\n",
      "          inclination_deg  \n",
      "group                      \n",
      "Ananke         148.922308  \n",
      "Carme          164.800000  \n",
      "Galilean         2.052500  \n",
      "Hamilia         26.300000  \n",
      "Himalia         29.151667  \n",
      "Inner            0.370000  \n",
      "Pasiphae       150.600000  \n",
      "other           48.350000  \n",
      "\n",
      "Standard Deviation by group :\n",
      "           period_days   distance_km   radius_km       mag       ecc  \\\n",
      "group                                                                 \n",
      "Ananke      23.070405  5.461083e+05    3.490371  1.235843  0.089683   \n",
      "Carme       29.684513  5.821236e+05    5.819819  1.143376  0.040291   \n",
      "Galilean     6.659114  6.393567e+05  499.870830  0.438891  0.003438   \n",
      "Hamilia           NaN           NaN         NaN       NaN       NaN   \n",
      "Himalia     15.870308  3.163477e+05   33.607446  3.575332  0.041139   \n",
      "Inner             NaN           NaN         NaN       NaN       NaN   \n",
      "Pasiphae    26.956053  6.165425e+05    8.716477  2.112947  0.100519   \n",
      "other      230.516811  6.783183e+06    2.121320  1.414214  0.125716   \n",
      "\n",
      "          inclination_deg  \n",
      "group                      \n",
      "Ananke           2.200296  \n",
      "Carme            1.056846  \n",
      "Galilean         0.194487  \n",
      "Hamilia               NaN  \n",
      "Himalia          1.338961  \n",
      "Inner                 NaN  \n",
      "Pasiphae         5.087596  \n",
      "other            4.313351  )\n"
     ]
    },
    {
     "name": "stderr",
     "output_type": "stream",
     "text": [
      "C:\\Users\\User\\OneDrive\\Documents\\Programming\\Programming and Data Analysis\\assessment_1\\jupiter_package\\jupiter.py:237: FutureWarning: The default value of numeric_only in DataFrameGroupBy.mean is deprecated. In a future version, numeric_only will default to False. Either specify numeric_only or select only columns which should be valid for the function.\n",
      "  mean = grouped.mean()\n",
      "C:\\Users\\User\\OneDrive\\Documents\\Programming\\Programming and Data Analysis\\assessment_1\\jupiter_package\\jupiter.py:240: FutureWarning: The default value of numeric_only in DataFrameGroupBy.std is deprecated. In a future version, numeric_only will default to False. Either specify numeric_only or select only columns which should be valid for the function.\n",
      "  std = grouped.std()\n"
     ]
    }
   ],
   "source": [
    "moon_df.grouped_analysis_summary()"
   ]
  },
  {
   "cell_type": "markdown",
   "id": "b668e869",
   "metadata": {},
   "source": [
    "# 3 Training, Testing and Prediction (Task 2)"
   ]
  },
  {
   "cell_type": "markdown",
   "id": "4adf8a2b",
   "metadata": {},
   "source": [
    "#### Case 1\n",
    "We will complete the prediction of jupiter mass by using train_test_split. "
   ]
  },
  {
   "cell_type": "code",
   "execution_count": 37,
   "id": "fbf5c9d2",
   "metadata": {},
   "outputs": [
    {
     "name": "stderr",
     "output_type": "stream",
     "text": [
      "C:\\Users\\User\\OneDrive\\Documents\\Programming\\Programming and Data Analysis\\assessment_1\\jupiter_package\\jupiter.py:223: UserWarning: Ignoring `palette` because no `hue` variable has been assigned.\n",
      "  sns.lineplot(self.__data, x = x, y = y, hue = hue, palette = 'pastel')\n"
     ]
    },
    {
     "data": {
      "image/png": "[encoded data removed]",
      "text/plain": [
       "<Figure size 400x400 with 1 Axes>"
      ]
     },
     "metadata": {},
     "output_type": "display_data"
    }
   ],
   "source": [
    "prediction_df = Moons()\n",
    "prediction_df.parameter_calculation(T = 'period_days', a = 'distance_km')\n",
    "prediction_df.plot(x = 'a3_m', y = 'T2_s', plot = 'line')"
   ]
  },
  {
   "cell_type": "code",
   "execution_count": 38,
   "id": "05d7e69c",
   "metadata": {},
   "outputs": [
    {
     "name": "stdout",
     "output_type": "stream",
     "text": [
      "r2_score: 0.9805535491912375\n",
      "mean squared error: 5.6153960365900355e+28\n"
     ]
    },
    {
     "data": {
      "text/plain": [
       "(0.9805535491912375, 5.6153960365900355e+28)"
      ]
     },
     "execution_count": 38,
     "metadata": {},
     "output_type": "execute_result"
    }
   ],
   "source": [
    "prediction_df.split_train(x = 'a3_m', y = 'T2_s')"
   ]
  },
  {
   "cell_type": "code",
   "execution_count": 39,
   "id": "e6f4bdbf",
   "metadata": {},
   "outputs": [
    {
     "name": "stdout",
     "output_type": "stream",
     "text": [
      "Predicted Jupiter mass is 1.9036202272613727e+27.\n"
     ]
    },
    {
     "data": {
      "text/plain": [
       "1.9036202272613727e+27"
      ]
     },
     "execution_count": 39,
     "metadata": {},
     "output_type": "execute_result"
    }
   ],
   "source": [
    "prediction_df.prediction_evaluation()"
   ]
  },
  {
   "cell_type": "markdown",
   "id": "f2ebea42",
   "metadata": {},
   "source": [
    "Notice that the r2_score is near 1 which means that there is good overall model fit. <br>\n",
    "The predicted jupiter mass is also similar to the actual jupiter mass which cound be found on Google (1.898 × 10^27 kg). <br>\n",
    "However, we have a very high mse which suggest that there might be large prediction errors."
   ]
  },
  {
   "cell_type": "markdown",
   "id": "82a0307b",
   "metadata": {},
   "source": [
    "#### Case 2\n",
    "As we have mentioned in the analysis earlier, there are some outliers which were indicated in the boxplot. <br>\n",
    "In this case, we will try to remove those outliers."
   ]
  },
  {
   "cell_type": "code",
   "execution_count": 40,
   "id": "6ac9245b",
   "metadata": {},
   "outputs": [
    {
     "data": {
      "text/html": [
       "<div>\n",
       "<style scoped>\n",
       "    .dataframe tbody tr th:only-of-type {\n",
       "        vertical-align: middle;\n",
       "    }\n",
       "\n",
       "    .dataframe tbody tr th {\n",
       "        vertical-align: top;\n",
       "    }\n",
       "\n",
       "    .dataframe thead th {\n",
       "        text-align: right;\n",
       "    }\n",
       "</style>\n",
       "<table border=\"1\" class=\"dataframe\">\n",
       "  <thead>\n",
       "    <tr style=\"text-align: right;\">\n",
       "      <th></th>\n",
       "      <th>moon</th>\n",
       "      <th>period_days</th>\n",
       "      <th>distance_km</th>\n",
       "      <th>radius_km</th>\n",
       "      <th>mag</th>\n",
       "      <th>mass_kg</th>\n",
       "      <th>group</th>\n",
       "      <th>ecc</th>\n",
       "      <th>inclination_deg</th>\n",
       "    </tr>\n",
       "  </thead>\n",
       "  <tbody>\n",
       "    <tr>\n",
       "      <th>0</th>\n",
       "      <td>Metis</td>\n",
       "      <td>0.290</td>\n",
       "      <td>128000.0</td>\n",
       "      <td>21.5</td>\n",
       "      <td>NaN</td>\n",
       "      <td>NaN</td>\n",
       "      <td>Inner</td>\n",
       "      <td>0.00020</td>\n",
       "      <td>2.00</td>\n",
       "    </tr>\n",
       "    <tr>\n",
       "      <th>1</th>\n",
       "      <td>Adrastea</td>\n",
       "      <td>0.298</td>\n",
       "      <td>129000.0</td>\n",
       "      <td>8.2</td>\n",
       "      <td>NaN</td>\n",
       "      <td>NaN</td>\n",
       "      <td>Inner</td>\n",
       "      <td>0.00150</td>\n",
       "      <td>0.03</td>\n",
       "    </tr>\n",
       "    <tr>\n",
       "      <th>2</th>\n",
       "      <td>Amalthea</td>\n",
       "      <td>0.498</td>\n",
       "      <td>181400.0</td>\n",
       "      <td>83.5</td>\n",
       "      <td>14.10</td>\n",
       "      <td>2.080000e+18</td>\n",
       "      <td>Inner</td>\n",
       "      <td>0.00319</td>\n",
       "      <td>0.37</td>\n",
       "    </tr>\n",
       "    <tr>\n",
       "      <th>3</th>\n",
       "      <td>Thebe</td>\n",
       "      <td>0.670</td>\n",
       "      <td>221889.0</td>\n",
       "      <td>49.0</td>\n",
       "      <td>NaN</td>\n",
       "      <td>NaN</td>\n",
       "      <td>Inner</td>\n",
       "      <td>0.01750</td>\n",
       "      <td>1.10</td>\n",
       "    </tr>\n",
       "    <tr>\n",
       "      <th>4</th>\n",
       "      <td>Io</td>\n",
       "      <td>1.750</td>\n",
       "      <td>421700.0</td>\n",
       "      <td>1821.6</td>\n",
       "      <td>5.02</td>\n",
       "      <td>8.931938e+22</td>\n",
       "      <td>Galilean</td>\n",
       "      <td>0.00410</td>\n",
       "      <td>2.20</td>\n",
       "    </tr>\n",
       "  </tbody>\n",
       "</table>\n",
       "</div>"
      ],
      "text/plain": [
       "       moon  period_days  distance_km  radius_km    mag       mass_kg  \\\n",
       "0     Metis        0.290     128000.0       21.5    NaN           NaN   \n",
       "1  Adrastea        0.298     129000.0        8.2    NaN           NaN   \n",
       "2  Amalthea        0.498     181400.0       83.5  14.10  2.080000e+18   \n",
       "3     Thebe        0.670     221889.0       49.0    NaN           NaN   \n",
       "4        Io        1.750     421700.0     1821.6   5.02  8.931938e+22   \n",
       "\n",
       "      group      ecc  inclination_deg  \n",
       "0     Inner  0.00020             2.00  \n",
       "1     Inner  0.00150             0.03  \n",
       "2     Inner  0.00319             0.37  \n",
       "3     Inner  0.01750             1.10  \n",
       "4  Galilean  0.00410             2.20  "
      ]
     },
     "execution_count": 40,
     "metadata": {},
     "output_type": "execute_result"
    }
   ],
   "source": [
    "prediction_df_outlier = Moons()\n",
    "#since we know outliers are at the left end\n",
    "prediction_df_outlier.rearrange_data_by_col('distance_km')\n",
    "prediction_df_outlier.print_data(head = True)"
   ]
  },
  {
   "cell_type": "markdown",
   "id": "a904978e",
   "metadata": {},
   "source": [
    "Recall that Io is one of the most well-studied moon. So we do not remove it from our dataset."
   ]
  },
  {
   "cell_type": "code",
   "execution_count": 41,
   "id": "ea8b3b2e",
   "metadata": {},
   "outputs": [
    {
     "name": "stderr",
     "output_type": "stream",
     "text": [
      "C:\\Users\\User\\OneDrive\\Documents\\Programming\\Programming and Data Analysis\\assessment_1\\jupiter_package\\jupiter.py:223: UserWarning: Ignoring `palette` because no `hue` variable has been assigned.\n",
      "  sns.lineplot(self.__data, x = x, y = y, hue = hue, palette = 'pastel')\n"
     ]
    },
    {
     "data": {
      "image/png": "[encoded data removed]",
      "text/plain": [
       "<Figure size 400x400 with 1 Axes>"
      ]
     },
     "metadata": {},
     "output_type": "display_data"
    }
   ],
   "source": [
    "prediction_df_outlier.drop_rows([0,1,2,3])\n",
    "prediction_df_outlier.parameter_calculation(T = 'period_days', a = 'distance_km')\n",
    "prediction_df_outlier.plot(x = 'a3_m', y = 'T2_s', plot = 'line')"
   ]
  },
  {
   "cell_type": "code",
   "execution_count": 42,
   "id": "255ed5b9",
   "metadata": {},
   "outputs": [
    {
     "name": "stdout",
     "output_type": "stream",
     "text": [
      "r2_score: 0.9984483985044325\n",
      "mean squared error: 3.576105392063382e+27\n"
     ]
    },
    {
     "data": {
      "text/plain": [
       "(0.9984483985044325, 3.576105392063382e+27)"
      ]
     },
     "execution_count": 42,
     "metadata": {},
     "output_type": "execute_result"
    }
   ],
   "source": [
    "prediction_df_outlier.split_train(x = 'a3_m', y = 'T2_s')"
   ]
  },
  {
   "cell_type": "code",
   "execution_count": 43,
   "id": "caafb2a6",
   "metadata": {},
   "outputs": [
    {
     "name": "stdout",
     "output_type": "stream",
     "text": [
      "Predicted Jupiter mass is 1.9358987161210096e+27.\n"
     ]
    },
    {
     "data": {
      "text/plain": [
       "1.9358987161210096e+27"
      ]
     },
     "execution_count": 43,
     "metadata": {},
     "output_type": "execute_result"
    }
   ],
   "source": [
    "prediction_df_outlier.prediction_evaluation()"
   ]
  },
  {
   "cell_type": "markdown",
   "id": "283176f0",
   "metadata": {},
   "source": [
    "Observe that our r2_score is even closer to 1 in this method, which is better than case 1. <br>\n",
    "Our MSE also decreased a significant amount in this case and hence, the prediction error would be lower. <br>\n",
    "However, the predicted jupiter mass is not as accurate as in case 1. <br>"
   ]
  },
  {
   "cell_type": "markdown",
   "id": "2abac7da",
   "metadata": {},
   "source": [
    "In general, case 2 will be more favourable because higher r2_score and lower MSE will be better for our predictions. <br>\n",
    "While in this specific case, case 1 might be more accurate, but there might be hidden factor which may cause other predictions to be inaccurate."
   ]
  },
  {
   "cell_type": "code",
   "execution_count": null,
   "id": "68db4a81",
   "metadata": {},
   "outputs": [],
   "source": []
  }
 ],
 "metadata": {
  "kernelspec": {
   "display_name": "Python 3 (ipykernel)",
   "language": "python",
   "name": "python3"
  },
  "language_info": {
   "codemirror_mode": {
    "name": "ipython",
    "version": 3
   },
   "file_extension": ".py",
   "mimetype": "text/x-python",
   "name": "python",
   "nbconvert_exporter": "python",
   "pygments_lexer": "ipython3",
   "version": "3.11.4"
  }
 },
 "nbformat": 4,
 "nbformat_minor": 5
}
